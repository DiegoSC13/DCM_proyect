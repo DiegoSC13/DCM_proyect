{
 "cells": [
  {
   "cell_type": "code",
   "execution_count": 1,
   "metadata": {},
   "outputs": [],
   "source": [
    "from aux_functions import *"
   ]
  },
  {
   "cell_type": "code",
   "execution_count": 6,
   "metadata": {},
   "outputs": [
    {
     "data": {
      "image/png": "[encoded data removed]",
      "text/plain": [
       "<Figure size 640x480 with 1 Axes>"
      ]
     },
     "metadata": {},
     "output_type": "display_data"
    },
    {
     "data": {
      "text/plain": [
       "True"
      ]
     },
     "execution_count": 6,
     "metadata": {},
     "output_type": "execute_result"
    }
   ],
   "source": [
    "'''\n",
    "Deco en ppio tiene flow_x, flow_y, residual_image y reference_image\n",
    "'''\n",
    "\n",
    "flow_x_path = '/Users/diegosilveracoeff/Desktop/Fing/DCM/Synthetic_Gaussian/flow_x.npy'\n",
    "flow_y_path = '/Users/diegosilveracoeff/Desktop/Fing/DCM/Synthetic_Gaussian/flow_y.npy'\n",
    "residual_path = '/Users/diegosilveracoeff/Desktop/Fing/DCM/Synthetic_Gaussian/motion_corrected_difference.png'\n",
    "ref_image_path = '/Users/diegosilveracoeff/Desktop/Fing/DCM/Synthetic_Gaussian/DCM_reference_image.png'\n",
    "\n",
    "# Cargar los archivos flow_x.npy y flow_y.npy\n",
    "flow_x = np.load(flow_x_path)\n",
    "flow_y = np.load(flow_y_path)\n",
    "\n",
    "# Combinar los componentes x e y para obtener la variable flow\n",
    "flow = np.stack((flow_x, flow_y), axis=-1)\n",
    "\n",
    "# Leo imágenes de referencia y residual\n",
    "ref_image = cv2.imread(ref_image_path, cv2.IMREAD_GRAYSCALE).astype(np.int16)\n",
    "residual_image = cv2.imread(residual_path, cv2.IMREAD_GRAYSCALE).astype(np.int16)\n",
    "\n",
    "#Calculo la suma entre ambas, resto 128 por offset de imagen residual\n",
    "added_images = residual_image - 128 + ref_image\n",
    "\n",
    "#Ploteo resultado\n",
    "plt.imshow(added_images, cmap='gray')\n",
    "plt.axis('off')  # Ocultar ejes\n",
    "plt.show()\n",
    "\n",
    "#Guardo resultado\n",
    "output_path =  '/Users/diegosilveracoeff/Desktop/Fing/DCM/Synthetic_Gaussian/decoded_image_without_motion_correction.png'\n",
    "cv2.imwrite(output_path, added_images)\n"
   ]
  },
  {
   "cell_type": "code",
   "execution_count": 11,
   "metadata": {},
   "outputs": [],
   "source": [
    "def decoder_motion_correction(current_frame_path, reference_frame_path, flow_x_path, flow_y_path, output_path):\n",
    "    \n",
    "    curr_frame = cv2.imread(current_frame_path)\n",
    "    prev_frame = cv2.imread(reference_frame_path)\n",
    "    \n",
    "\n",
    "    # Convertir las imágenes a escala de grises\n",
    "    curr_gray = cv2.cvtColor(curr_frame, cv2.COLOR_BGR2GRAY)\n",
    "    prev_gray = cv2.cvtColor(prev_frame, cv2.COLOR_BGR2GRAY)\n",
    "\n",
    "    # Cargar los archivos flow_x.npy y flow_y.npy\n",
    "    flow_x = np.load(flow_x_path)\n",
    "    flow_y = np.load(flow_y_path)\n",
    "\n",
    "    # Combinar los componentes x e y para obtener la variable flow\n",
    "    flow = np.stack((flow_x, flow_y), axis=-1)\n",
    "\n",
    "\n",
    "    # Aplicar el flujo óptico al segundo frame\n",
    "    corrected_frame = np.zeros_like(curr_gray)\n",
    "    # corrected_frame = curr_gray\n",
    "    for y in range(flow.shape[0]):\n",
    "        for x in range(flow.shape[1]):\n",
    "            dx, dy = flow[y, x]\n",
    "            x2 = min(max(x + dx, 0), flow.shape[1] - 1)\n",
    "            y2 = min(max(y + dy, 0), flow.shape[0] - 1)\n",
    "            corrected_frame[int(np.trunc(y2)), int(np.trunc(x2))] = curr_gray[y, x]\n",
    "\n",
    "    #Alternativa para manejar sectores sin cubrir\n",
    "    # corrected_frame_npwhere_reference_based = corrected_frame.copy()\n",
    "\n",
    "    # for i in range(corrected_frame.shape[0]):\n",
    "    #     for j in range(corrected_frame.shape[1]):\n",
    "    #         corrected_frame_npwhere_reference_based[i][j] = np.where(corrected_frame_npwhere_reference_based[i][j] == 0, prev_gray[i][j], corrected_frame_npwhere_reference_based[i][j])\n",
    "\n",
    "    cv2.imwrite(output_path, corrected_frame)\n",
    "\n",
    "\n",
    "    print(f\"Current frame con motion correction guardado como {output_path}\")\n",
    "\n",
    "    return"
   ]
  },
  {
   "cell_type": "code",
   "execution_count": 12,
   "metadata": {},
   "outputs": [
    {
     "name": "stdout",
     "output_type": "stream",
     "text": [
      "Current frame con motion correction guardado como /Users/diegosilveracoeff/Desktop/Fing/DCM/Synthetic_Gaussian/decoder_motion_corrected_frame_npwhere_reference_based.png\n"
     ]
    }
   ],
   "source": [
    "added_images_path = '/Users/diegosilveracoeff/Desktop/Fing/DCM/Synthetic_Gaussian/decoded_image_without_motion_correction.png'\n",
    "\n",
    "output_path = '/Users/diegosilveracoeff/Desktop/Fing/DCM/Synthetic_Gaussian/decoder_motion_corrected_frame_npwhere_reference_based.png'\n",
    "\n",
    "decoder_motion_correction(added_images_path, ref_image_path, flow_x_path, flow_y_path, output_path)"
   ]
  },
  {
   "cell_type": "code",
   "execution_count": 13,
   "metadata": {},
   "outputs": [
    {
     "name": "stdout",
     "output_type": "stream",
     "text": [
      "0\n"
     ]
    }
   ],
   "source": [
    "current_frame_image = cv2.imread('/Users/diegosilveracoeff/Desktop/Fing/DCM/Synthetic_Gaussian/DCM_7x7_image.png')\n",
    "estimated_frame_image = cv2.imread('/Users/diegosilveracoeff/Desktop/Fing/DCM/Synthetic_Gaussian/decoder_motion_corrected_frame_npwhere_reference_based.png')\n",
    "\n",
    "print(np.sum(np.abs(current_frame_image-estimated_frame_image)))"
   ]
  },
  {
   "cell_type": "code",
   "execution_count": null,
   "metadata": {},
   "outputs": [],
   "source": [
    "# Pruebo la decodificación con la imagen de referencia \n",
    "\n"
   ]
  }
 ],
 "metadata": {
  "kernelspec": {
   "display_name": "dcm-proyect",
   "language": "python",
   "name": "python3"
  },
  "language_info": {
   "codemirror_mode": {
    "name": "ipython",
    "version": 3
   },
   "file_extension": ".py",
   "mimetype": "text/x-python",
   "name": "python",
   "nbconvert_exporter": "python",
   "pygments_lexer": "ipython3",
   "version": "3.12.3"
  }
 },
 "nbformat": 4,
 "nbformat_minor": 2
}
