{
 "cells": [
  {
   "cell_type": "code",
   "execution_count": 1,
   "metadata": {},
   "outputs": [],
   "source": [
    "from aux_functions import *"
   ]
  },
  {
   "cell_type": "code",
   "execution_count": 2,
   "metadata": {},
   "outputs": [
    {
     "name": "stdout",
     "output_type": "stream",
     "text": [
      "Frame 32 guardado como /Users/diegosilveracoeff/Desktop/Fing/DCM/frame_32.png\n",
      "Frame 33 guardado como /Users/diegosilveracoeff/Desktop/Fing/DCM/frame_33.png\n"
     ]
    }
   ],
   "source": [
    "video_path = \"/Users/diegosilveracoeff/Downloads/Video_Rami.mp4\"\n",
    "frame_nums = [32, 33]  # Números de frames que deseas extraer\n",
    "output_folder = \"/Users/diegosilveracoeff/Desktop/Fing/DCM\"\n",
    "\n",
    "extract_frames(video_path, frame_nums, output_folder)"
   ]
  },
  {
   "cell_type": "code",
   "execution_count": 4,
   "metadata": {},
   "outputs": [
    {
     "name": "stdout",
     "output_type": "stream",
     "text": [
      "Valor mínimo de diferencia:  -255\n",
      "Valor máximo de diferencia:  255\n",
      "Resultado de la resta ajustado y guardado como /Users/diegosilveracoeff/Desktop/Fing/DCM/Synthetic_Gaussian/residual_image.png\n"
     ]
    }
   ],
   "source": [
    "# reference_frame_path = '/Users/diegosilveracoeff/Desktop/Fing/DCM/frame_32.png'\n",
    "# current_frame_path = '/Users/diegosilveracoeff/Desktop/Fing/DCM/frame_33.png'\n",
    "# output_path = \"/Users/diegosilveracoeff/Desktop/Fing/DCM/substract_frames_clip.png\"\n",
    "\n",
    "reference_frame_path = '/Users/diegosilveracoeff/Desktop/Fing/DCM/Synthetic_Gaussian/DCM_reference_image.png'\n",
    "current_frame_path = '/Users/diegosilveracoeff/Desktop/Fing/DCM/Synthetic_Gaussian/DCM_7x7_image.png'\n",
    "output_path = \"/Users/diegosilveracoeff/Desktop/Fing/DCM/Synthetic_Gaussian/residual_image.png\"\n",
    "\n",
    "subtract_frames(current_frame_path, reference_frame_path, output_path, clip=True)"
   ]
  },
  {
   "cell_type": "code",
   "execution_count": 5,
   "metadata": {},
   "outputs": [
    {
     "name": "stdout",
     "output_type": "stream",
     "text": [
      "(32, 32, 2)\n",
      "flow_x guardado como /Users/diegosilveracoeff/Desktop/Fing/DCM/Synthetic_Gaussian/flow_x.npy\n",
      "flow_y guardado como /Users/diegosilveracoeff/Desktop/Fing/DCM/Synthetic_Gaussian/flow_y.npy\n",
      "Visualización del flujo óptico guardado como /Users/diegosilveracoeff/Desktop/Fing/DCM/Synthetic_Gaussian/optical_flow_visualization.png\n"
     ]
    },
    {
     "data": {
      "image/png": "[encoded data removed]",
      "text/plain": [
       "<Figure size 640x480 with 1 Axes>"
      ]
     },
     "metadata": {},
     "output_type": "display_data"
    }
   ],
   "source": [
    "output_folder = \"/Users/diegosilveracoeff/Desktop/Fing/DCM/Synthetic_Gaussian\"\n",
    "\n",
    "optical_flow(current_frame_path, reference_frame_path, output_folder)"
   ]
  },
  {
   "cell_type": "code",
   "execution_count": 6,
   "metadata": {},
   "outputs": [
    {
     "name": "stdout",
     "output_type": "stream",
     "text": [
      "Current frame con motion correction guardado como /Users/diegosilveracoeff/Desktop/Fing/DCM/Synthetic_Gaussian/motion_corrected_frame_npwhere_reference_based.png\n"
     ]
    }
   ],
   "source": [
    "flow_x_path = '/Users/diegosilveracoeff/Desktop/Fing/DCM/Synthetic_Gaussian/flow_x.npy'\n",
    "flow_y_path = '/Users/diegosilveracoeff/Desktop/Fing/DCM/Synthetic_Gaussian/flow_y.npy'\n",
    "output_path = '/Users/diegosilveracoeff/Desktop/Fing/DCM/Synthetic_Gaussian/motion_corrected_frame_npwhere_reference_based.png'\n",
    "\n",
    "motion_correction(current_frame_path, reference_frame_path, flow_x_path, flow_y_path, output_path)"
   ]
  },
  {
   "cell_type": "code",
   "execution_count": 9,
   "metadata": {},
   "outputs": [
    {
     "name": "stdout",
     "output_type": "stream",
     "text": [
      "Valor mínimo de diferencia:  -142\n",
      "Valor máximo de diferencia:  142\n",
      "Resultado de la resta ajustado y guardado como /Users/diegosilveracoeff/Desktop/Fing/DCM/Synthetic_Gaussian/motion_corrected_difference.png\n"
     ]
    }
   ],
   "source": [
    "corrected_current_frame = '/Users/diegosilveracoeff/Desktop/Fing/DCM/Synthetic_Gaussian/motion_corrected_frame_npwhere_reference_based.png'\n",
    "output_path = '/Users/diegosilveracoeff/Desktop/Fing/DCM/Synthetic_Gaussian/motion_corrected_difference.png'\n",
    "subtract_frames(corrected_current_frame, reference_frame_path, output_path, clip=True)"
   ]
  },
  {
   "cell_type": "code",
   "execution_count": 10,
   "metadata": {},
   "outputs": [
    {
     "name": "stdout",
     "output_type": "stream",
     "text": [
      "16881\n",
      "11517\n"
     ]
    }
   ],
   "source": [
    "diff_original = cv2.imread('/Users/diegosilveracoeff/Desktop/Fing/DCM/Synthetic_Gaussian/residual_image.png')\n",
    "diff_corrected = cv2.imread('/Users/diegosilveracoeff/Desktop/Fing/DCM/Synthetic_Gaussian/motion_corrected_difference.png')\n",
    "\n",
    "energy_diff_original = np.sum(np.abs(diff_original-128))\n",
    "energy_diff_corrected = np.sum(np.abs(diff_corrected-128))\n",
    "\n",
    "print(energy_diff_original)\n",
    "print(energy_diff_corrected)"
   ]
  },
  {
   "cell_type": "code",
   "execution_count": null,
   "metadata": {},
   "outputs": [],
   "source": []
  }
 ],
 "metadata": {
  "kernelspec": {
   "display_name": "dcm-proyect",
   "language": "python",
   "name": "python3"
  },
  "language_info": {
   "codemirror_mode": {
    "name": "ipython",
    "version": 3
   },
   "file_extension": ".py",
   "mimetype": "text/x-python",
   "name": "python",
   "nbconvert_exporter": "python",
   "pygments_lexer": "ipython3",
   "version": "3.12.3"
  }
 },
 "nbformat": 4,
 "nbformat_minor": 2
}
