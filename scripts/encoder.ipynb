{
 "cells": [
  {
   "cell_type": "code",
   "execution_count": 1,
   "metadata": {},
   "outputs": [],
   "source": [
    "from aux_functions import *"
   ]
  },
  {
   "cell_type": "code",
   "execution_count": 2,
   "metadata": {},
   "outputs": [
    {
     "name": "stdout",
     "output_type": "stream",
     "text": [
      "Frame 32 guardado como /Users/diegosilveracoeff/Desktop/Fing/DCM/frame_32.png\n",
      "Frame 33 guardado como /Users/diegosilveracoeff/Desktop/Fing/DCM/frame_33.png\n"
     ]
    }
   ],
   "source": [
    "video_path = \"/Users/diegosilveracoeff/Downloads/Video_Rami.mp4\"\n",
    "frame_nums = [32, 33]  # Números de frames que deseas extraer\n",
    "output_folder = \"/Users/diegosilveracoeff/Desktop/Fing/DCM\"\n",
    "\n",
    "extract_frames(video_path, frame_nums, output_folder)"
   ]
  },
  {
   "cell_type": "code",
   "execution_count": 2,
   "metadata": {},
   "outputs": [
    {
     "name": "stdout",
     "output_type": "stream",
     "text": [
      "Valor mínimo de diferencia:  -255\n",
      "Valor máximo de diferencia:  255\n",
      "Resultado de la resta ajustado y guardado como /Users/diegosilveracoeff/Desktop/Fing/DCM/Synthetic_Gaussian/residual_image.png\n"
     ]
    }
   ],
   "source": [
    "# reference_frame_path = '/Users/diegosilveracoeff/Desktop/Fing/DCM/frame_32.png'\n",
    "# current_frame_path = '/Users/diegosilveracoeff/Desktop/Fing/DCM/frame_33.png'\n",
    "# output_path = \"/Users/diegosilveracoeff/Desktop/Fing/DCM/substract_frames_clip.png\"\n",
    "\n",
    "reference_frame_path = '/Users/diegosilveracoeff/Desktop/Fing/DCM/Synthetic_Gaussian/DCM_reference_image.png'\n",
    "current_frame_path = '/Users/diegosilveracoeff/Desktop/Fing/DCM/Synthetic_Gaussian/DCM_7x7_image.png'\n",
    "output_path = \"/Users/diegosilveracoeff/Desktop/Fing/DCM/Synthetic_Gaussian/residual_image.png\"\n",
    "\n",
    "subtract_frames(current_frame_path, reference_frame_path, output_path, clip=True)"
   ]
  },
  {
   "cell_type": "code",
   "execution_count": 3,
   "metadata": {},
   "outputs": [
    {
     "name": "stdout",
     "output_type": "stream",
     "text": [
      "(32, 32, 2)\n",
      "flow_x guardado como /Users/diegosilveracoeff/Desktop/Fing/DCM/Synthetic_Gaussian/flow_x.npy\n",
      "flow_y guardado como /Users/diegosilveracoeff/Desktop/Fing/DCM/Synthetic_Gaussian/flow_y.npy\n",
      "Visualización del flujo óptico guardado como /Users/diegosilveracoeff/Desktop/Fing/DCM/Synthetic_Gaussian/optical_flow_visualization.png\n"
     ]
    },
    {
     "data": {
      "image/png": "[encoded data removed]",
      "text/plain": [
       "<Figure size 640x480 with 1 Axes>"
      ]
     },
     "metadata": {},
     "output_type": "display_data"
    }
   ],
   "source": [
    "output_folder = \"/Users/diegosilveracoeff/Desktop/Fing/DCM/Synthetic_Gaussian\"\n",
    "\n",
    "optical_flow(current_frame_path, reference_frame_path, output_folder)"
   ]
  },
  {
   "cell_type": "code",
   "execution_count": 4,
   "metadata": {},
   "outputs": [
    {
     "name": "stdout",
     "output_type": "stream",
     "text": [
      "Current frame con motion correction guardado como /Users/diegosilveracoeff/Desktop/Fing/DCM/Synthetic_Gaussian/motion_corrected_frame_npwhere_reference_based.png\n"
     ]
    }
   ],
   "source": [
    "flow_x_path = '/Users/diegosilveracoeff/Desktop/Fing/DCM/Synthetic_Gaussian/flow_x.npy'\n",
    "flow_y_path = '/Users/diegosilveracoeff/Desktop/Fing/DCM/Synthetic_Gaussian/flow_y.npy'\n",
    "output_path = '/Users/diegosilveracoeff/Desktop/Fing/DCM/Synthetic_Gaussian/motion_corrected_frame_npwhere_reference_based.png'\n",
    "\n",
    "encoder_motion_correction(current_frame_path, reference_frame_path, flow_x_path, flow_y_path, output_path)"
   ]
  },
  {
   "cell_type": "code",
   "execution_count": 5,
   "metadata": {},
   "outputs": [
    {
     "name": "stdout",
     "output_type": "stream",
     "text": [
      "Valor mínimo de diferencia:  0\n",
      "Valor máximo de diferencia:  0\n",
      "Resultado de la resta ajustado y guardado como /Users/diegosilveracoeff/Desktop/Fing/DCM/Synthetic_Gaussian/motion_corrected_difference.png\n"
     ]
    }
   ],
   "source": [
    "corrected_current_frame = '/Users/diegosilveracoeff/Desktop/Fing/DCM/Synthetic_Gaussian/motion_corrected_frame_npwhere_reference_based.png'\n",
    "output_path = '/Users/diegosilveracoeff/Desktop/Fing/DCM/Synthetic_Gaussian/motion_corrected_difference.png'\n",
    "subtract_frames(corrected_current_frame, reference_frame_path, output_path, clip=True)"
   ]
  },
  {
   "cell_type": "code",
   "execution_count": 6,
   "metadata": {},
   "outputs": [
    {
     "name": "stdout",
     "output_type": "stream",
     "text": [
      "16881\n",
      "0\n"
     ]
    }
   ],
   "source": [
    "diff_original = cv2.imread('/Users/diegosilveracoeff/Desktop/Fing/DCM/Synthetic_Gaussian/residual_image.png')\n",
    "diff_corrected = cv2.imread('/Users/diegosilveracoeff/Desktop/Fing/DCM/Synthetic_Gaussian/motion_corrected_difference.png')\n",
    "\n",
    "energy_diff_original = np.sum(np.abs(diff_original-128))\n",
    "energy_diff_corrected = np.sum(np.abs(diff_corrected-128))\n",
    "\n",
    "print(energy_diff_original)\n",
    "print(energy_diff_corrected)"
   ]
  },
  {
   "cell_type": "code",
   "execution_count": 2,
   "metadata": {},
   "outputs": [
    {
     "name": "stdout",
     "output_type": "stream",
     "text": [
      "(32, 32)\n",
      "[('0', 999), ('28', 4), ('57', 8), ('85', 4), ('113', 4), ('170', 4), ('255', 1)]\n",
      "Símbolo: 0, Código Huffman: 1\n",
      "Símbolo: 28, Código Huffman: 0101\n",
      "Símbolo: 57, Código Huffman: 011\n",
      "Símbolo: 85, Código Huffman: 000\n",
      "Símbolo: 113, Código Huffman: 0100\n",
      "Símbolo: 170, Código Huffman: 0011\n",
      "Símbolo: 255, Código Huffman: 0010\n",
      "[  0  28  57  85 113 170 255] ['1' '0101' '011' '000' '0100' '0011' '0010']\n",
      "(32, 32)\n",
      "Largo de la imagen codificada (mensaje) 1087\n",
      "Fillout_number:  1\n",
      "0000000101111111111111111111111111111111111111111111111111111111111111111111111111111111111111111111111111111111111111111111111111111111111111111111111111111111111111111111111111111111111111111111111111111111111111111111111111111111111111111111111111111111111111111111111111111111111111111111111111111111111111111111111111111111111111111111111111111111111111111111111111111111111111111111111111111111111111111111111111111111111111111111111111111111111111111111111111111110101011000011010111111111111111111111111111101101000011010001111111111111111111111111111100000110010001100011111111111111111111111111101101000011010001111111111111111111111111111101010110000110101111111111111111111111111111111111111111111111111111111111111111111111111111111111111111111111111111111111111111111111111111111111111111111111111111111111111111111111111111111111111111111111111111111111111111111111111111111111111111111111111111111111111111111111111111111111111111111111111111111111111111111111111111111111111111111111111111111111111111111111111111111111111111111111111111111111111111111111111111111111111111111111\n"
     ]
    }
   ],
   "source": [
    "# Pruebo la codificación con la imagen de referencia \n",
    "reference_frame_path = '/Users/diegosilveracoeff/Desktop/Fing/DCM/Synthetic_Gaussian/DCM_reference_image.png'\n",
    "counted_pixels = count_pixel_values(reference_frame_path)\n",
    "print(counted_pixels)\n",
    "symbols, codes = huffman_codebook(counted_pixels)\n",
    "print(symbols, codes)\n",
    "write_encoded_file(reference_frame_path, symbols, codes, '/Users/diegosilveracoeff/Desktop/Fing/DCM/Synthetic_Gaussian/Encoded_reference_image.bin')"
   ]
  },
  {
   "cell_type": "code",
   "execution_count": 5,
   "metadata": {},
   "outputs": [
    {
     "name": "stdout",
     "output_type": "stream",
     "text": [
      "Cadena binaria: 0000000101111111111111111111111111111111111111111111111111111111111111111111111111111111111111111111111111111111111111111111111111111111111111111111111111111111111111111111111111111111111111111111111111111111111111111111111111111111111111111111111111111111111111111111111111111111111111111111111111111111111111111111111111111111111111111111111111111111111111111111111111111111111111111111111111111111111111111111111111111111111111111111111111111111111111111111111111111110101011000011010111111111111111111111111111101101000011010001111111111111111111111111111100000110010001100011111111111111111111111111101101000011010001111111111111111111111111111101010110000110101111111111111111111111111111111111111111111111111111111111111111111111111111111111111111111111111111111111111111111111111111111111111111111111111111111111111111111111111111111111111111111111111111111111111111111111111111111111111111111111111111111111111111111111111111111111111111111111111111111111111111111111111111111111111111111111111111111111111111111111111111111111111111111111111111111111111111111111111111111111111111111111\n",
      "Primeros 8 bits: 00000001\n",
      "Número entero: 1\n",
      "Imagen codificado: 1111111111111111111111111111111111111111111111111111111111111111111111111111111111111111111111111111111111111111111111111111111111111111111111111111111111111111111111111111111111111111111111111111111111111111111111111111111111111111111111111111111111111111111111111111111111111111111111111111111111111111111111111111111111111111111111111111111111111111111111111111111111111111111111111111111111111111111111111111111111111111111111111111111111111111111111111111110101011000011010111111111111111111111111111101101000011010001111111111111111111111111111100000110010001100011111111111111111111111111101101000011010001111111111111111111111111111101010110000110101111111111111111111111111111111111111111111111111111111111111111111111111111111111111111111111111111111111111111111111111111111111111111111111111111111111111111111111111111111111111111111111111111111111111111111111111111111111111111111111111111111111111111111111111111111111111111111111111111111111111111111111111111111111111111111111111111111111111111111111111111111111111111111111111111111111111111111111111111111111111111111111\n",
      "<class 'str'>\n"
     ]
    },
    {
     "data": {
      "image/png": "[encoded data removed]",
      "text/plain": [
       "<Figure size 640x480 with 2 Axes>"
      ]
     },
     "metadata": {},
     "output_type": "display_data"
    }
   ],
   "source": [
    "message = read_bin_file('/Users/diegosilveracoeff/Desktop/Fing/DCM/Synthetic_Gaussian/Encoded_reference_image.bin')\n",
    "print(type(message))\n",
    "decoded_file = decode_symbols(message, symbols, codes, np.array([32,32]))\n",
    "plt.imshow(decoded_file, cmap='gray', vmin=0, vmax=np.max(decoded_file))\n",
    "plt.colorbar()\n",
    "plt.title('Coeficientes DCT (log)')\n",
    "plt.axis('off')  # Ocultar ejes\n",
    "plt.show()"
   ]
  },
  {
   "cell_type": "code",
   "execution_count": null,
   "metadata": {},
   "outputs": [],
   "source": []
  }
 ],
 "metadata": {
  "kernelspec": {
   "display_name": "dcm-proyect",
   "language": "python",
   "name": "python3"
  },
  "language_info": {
   "codemirror_mode": {
    "name": "ipython",
    "version": 3
   },
   "file_extension": ".py",
   "mimetype": "text/x-python",
   "name": "python",
   "nbconvert_exporter": "python",
   "pygments_lexer": "ipython3",
   "version": "3.12.3"
  }
 },
 "nbformat": 4,
 "nbformat_minor": 2
}
